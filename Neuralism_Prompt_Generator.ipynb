{
  "nbformat": 4,
  "nbformat_minor": 0,
  "metadata": {
    "colab": {
      "name": "Neuralism Prompt Generator.ipynb",
      "private_outputs": true,
      "provenance": [],
      "collapsed_sections": [],
      "include_colab_link": true
    },
    "kernelspec": {
      "name": "python3",
      "display_name": "Python 3"
    },
    "language_info": {
      "name": "python"
    }
  },
  "cells": [
    {
      "cell_type": "markdown",
      "metadata": {
        "id": "view-in-github",
        "colab_type": "text"
      },
      "source": [
        "<a href=\"https://colab.research.google.com/github/tenchapmans/genart/blob/main/Neuralism_Prompt_Generator.ipynb\" target=\"_parent\"><img src=\"https://colab.research.google.com/assets/colab-badge.svg\" alt=\"Open In Colab\"/></a>"
      ]
    },
    {
      "cell_type": "markdown",
      "source": [
        "# [@NeuralismAI](https://twitter.com/NeuralismAI) Generative Art prompt generator.\n",
        "Inspired by dughogan's [prompt generator](https://github.com/dughogan/VQGAN_Prompts/)\n",
        "\n",
        "This is a notebook that has customizable settings for generating a random prompt from lists of words.\n",
        "\n",
        "These lists of words can incorporate many more words in the future. And they will.\n"
      ],
      "metadata": {
        "id": "Yzg_WxUx0QiX"
      }
    },
    {
      "cell_type": "code",
      "source": [
        "#@markdown # Download prompt lists\n",
        "!git clone https://github.com/sanzelda/prompt_gen.git"
      ],
      "metadata": {
        "id": "tiOsdJV4u0FY"
      },
      "execution_count": null,
      "outputs": []
    },
    {
      "cell_type": "markdown",
      "source": [
        "#How To Use\n",
        "\n",
        "- `amount_of_prompts:` the amount of prompts to generate at a time.\n",
        "- `VQGAN_prompt:` toggeles between `|` separation and comma separation.\n",
        "- `n_{word}:` the amount of that kind of word that you want in your prompt.\n",
        "- The toggle options only add one of that word to the prompt."
      ],
      "metadata": {
        "id": "2hbpu30IdhNq"
      }
    },
    {
      "cell_type": "code",
      "execution_count": null,
      "metadata": {
        "id": "GBRlz7DRueqx",
        "cellView": "form"
      },
      "outputs": [],
      "source": [
        "#@markdown # Generate random prompt\n",
        "import random\n",
        "amount_of_prompts =  20#@param {type:\"integer\"}\n",
        "promptList = []\n",
        "VQGAN_prompt = True #@param {type:\"boolean\"}\n",
        "\n",
        "n_adjectives =  3#@param {type:\"integer\"}\n",
        "n_artists =   1#@param {type:\"integer\"}\n",
        "n_colors =  2#@param {type:\"integer\"}\n",
        "n_art_styles =  1#@param {type:\"integer\"}\n",
        "n_things =  2#@param {type:\"integer\"}\n",
        "Animals = True #@param {type:\"boolean\"}\n",
        "Locations = True #@param {type:\"boolean\"}\n",
        "Shapes = True #@param {type:\"boolean\"}\n",
        "\n",
        "\n",
        "\n",
        "\n",
        "\n",
        "\n",
        "def make_random_prompt(amount):\n",
        "  for i in range(amount):\n",
        "    \n",
        "    prompt = []\n",
        "\n",
        "    prompt_dict = {}\n",
        "\n",
        "\n",
        "    # files to import\n",
        "    prompt_dict[\"adjectives\"] = open(\"/content/prompt_gen/adjectives.txt\").read().splitlines()\n",
        "    prompt_dict[\"animals\"] = open(\"/content/prompt_gen/animals.txt\").read().splitlines()\n",
        "    prompt_dict[\"artists\"] = open(\"/content/prompt_gen/artists.txt\").read().splitlines()\n",
        "    prompt_dict[\"colors\"] = open(\"/content/prompt_gen/colors.txt\").read().splitlines()\n",
        "    prompt_dict[\"things\"] = open(\"/content/prompt_gen/things.txt\").read().splitlines()\n",
        "    prompt_dict[\"shapes\"] = open(\"/content/prompt_gen/shapes.txt\").read().splitlines()\n",
        "    prompt_dict[\"suffixes\"] = open(\"/content/prompt_gen/styles.txt\").read().splitlines()\n",
        "    prompt_dict[\"locations\"] = open(\"/content/prompt_gen/locations.txt\").read().splitlines()\n",
        "    \n",
        "\n",
        "    adj_string = \"\" # for having multiple adjectives\n",
        "    for adjective in range(n_adjectives):\n",
        "        adj = random.choice(prompt_dict[\"adjectives\"])\n",
        "        prompt_dict[\"adjectives\"].pop(prompt_dict[\"adjectives\"].index(adj)) # to prevent repitition\n",
        "                                      \n",
        "        adj_string += adj + \" \"\n",
        "    # prompt.append(adj_string) # uncomment for differnent separation formating\n",
        "\n",
        "    clr_string = \"\"\n",
        "    for color in range(n_colors):\n",
        "        clr = random.choice(prompt_dict[\"colors\"])\n",
        "        prompt_dict[\"colors\"].pop(prompt_dict[\"colors\"].index(clr))\n",
        "        clr_string += clr + \" \"\n",
        "    # prompt.append(clr_string)\n",
        "\n",
        "    if Animals: # not multiple since that would make things seem pretty weird\n",
        "        animal = random.choice(prompt_dict[\"animals\"]) + \" \"\n",
        "        # prompt.append(animal)\n",
        "    else:\n",
        "        animal = \"\"\n",
        "\n",
        "    if Shapes:\n",
        "        shape = random.choice(prompt_dict[\"shapes\"]) + \" \"\n",
        "        # prompt.append(shape)\n",
        "    else:\n",
        "        shape = \"\"\n",
        "\n",
        "    if Locations:\n",
        "        location = random.choice(prompt_dict[\"locations\"]) + \" \"\n",
        "    else:\n",
        "        location = \"\"\n",
        "\n",
        "\n",
        "    thng_string = \"\"\n",
        "    for thing in range(n_things):\n",
        "        thng = random.choice(prompt_dict[\"things\"])\n",
        "        prompt_dict[\"things\"].pop(prompt_dict[\"things\"].index(thng))\n",
        "        thng_string += thng + \" \"\n",
        "    # prompt.append(thng_string)\n",
        "\n",
        "    artst_string = \"\"\n",
        "    if n_artists > 0:\n",
        "        artst_string += \"by \"\n",
        "    for artist in range(n_artists):\n",
        "        artst = random.choice(prompt_dict[\"artists\"])\n",
        "        prompt_dict[\"artists\"].pop(prompt_dict[\"artists\"].index(artst))\n",
        "\n",
        "        if artist < n_artists-1: # so that it doesn't add any unnecesary ands\n",
        "            artst_string += artst + \" and \"\n",
        "        else:\n",
        "            artst_string += artst\n",
        "    # prompt.append(artst_string)\n",
        "    \n",
        "    # adds sections together in the list\n",
        "    prompt.append(f\"{adj_string}{clr_string}{location}{shape}{animal}{thng_string}\".strip())\n",
        "    prompt.append(artst_string)\n",
        "    \n",
        "    for style in range(n_art_styles): # adds all the prompt suffixes separated by commas\n",
        "        suffix = random.choice(prompt_dict[\"suffixes\"])\n",
        "        prompt_dict[\"suffixes\"].pop(prompt_dict[\"suffixes\"].index(suffix))\n",
        "        prompt.append(suffix)\n",
        "\n",
        "    # different formatting for different TTI. + a list comprehention to prevent useless commas at the end\n",
        "    if VQGAN_prompt:\n",
        "        promptList.append(\" | \".join([i for i in prompt if i != \"\" and i != \" \"]))\n",
        "    else:\n",
        "        promptList.append(\", \".join([i for i in prompt if i != \"\" and i != \" \"]))\n",
        "\n",
        "make_random_prompt(amount_of_prompts)\n",
        "\n",
        "for k in promptList:\n",
        "    print(k)"
      ]
    }
  ]
}